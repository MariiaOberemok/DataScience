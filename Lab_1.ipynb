{
 "cells": [
  {
   "cell_type": "markdown",
   "metadata": {},
   "source": [
    "# Lab 1 - Python introduction\n"
   ]
  },
  {
   "cell_type": "markdown",
   "metadata": {},
   "source": [
    "### Exercise 0 - Example\n",
    "Assign the number 31 to a new variable, q. Write an expression that raises q to the 4th power "
   ]
  },
  {
   "cell_type": "code",
   "execution_count": 67,
   "metadata": {},
   "outputs": [
    {
     "data": {
      "text/plain": [
       "923521"
      ]
     },
     "execution_count": 67,
     "metadata": {},
     "output_type": "execute_result"
    }
   ],
   "source": [
    "# Your answer here\n",
    "q = 31\n",
    "q**4"
   ]
  },
  {
   "cell_type": "markdown",
   "metadata": {},
   "source": [
    "### Exercise 1\n",
    "Create arbitrary list, tuple and dictionary and print them"
   ]
  },
  {
   "cell_type": "code",
   "execution_count": 1,
   "metadata": {},
   "outputs": [
    {
     "name": "stdout",
     "output_type": "stream",
     "text": [
      "['a', 4, 'Mariia', True]\n",
      "('a', 5, 'Mariia', True)\n",
      "{2: 6, 8: 9}\n"
     ]
    }
   ],
   "source": [
    "# Your answer here\n",
    "list = ['a',4,'Mariia',True]\n",
    "print(list)\n",
    "\n",
    "tuple=('a',5,'Mariia',True)\n",
    "print(tuple)\n",
    "\n",
    "dictionary = {2:6, 8:9}\n",
    "print(dictionary)"
   ]
  },
  {
   "cell_type": "markdown",
   "metadata": {},
   "source": [
    "### Exercise 2\n",
    "Print the next elements of array s: 10th, from 10 to 20, all elements more than 0 "
   ]
  },
  {
   "cell_type": "code",
   "execution_count": 4,
   "metadata": {},
   "outputs": [
    {
     "name": "stdout",
     "output_type": "stream",
     "text": [
      "-1.6983896550135624 [-1.69838966  0.14865746  1.32078806 -0.32667771  1.66200571 -0.40476981\n",
      "  0.53009279  1.27948855  0.06667644 -0.90662932]\n",
      "0.4699346063113317\n",
      "0.7429344348293109\n",
      "0.8959673856157299\n",
      "0.14865745743168232\n",
      "1.3207880557281706\n",
      "1.6620057088972526\n",
      "0.5300927920658582\n",
      "1.2794885480017126\n",
      "0.06667644117362101\n",
      "0.14709465328117677\n",
      "0.3539403581693209\n",
      "0.4563535230319181\n",
      "0.8095331346092073\n",
      "2.859288819808717\n",
      "0.40197030129703515\n",
      "0.5124862110315523\n",
      "0.10447140875116556\n",
      "0.23421085143677506\n",
      "1.7807925306189871\n",
      "0.9338908966553673\n",
      "0.16817481128381254\n",
      "0.27444136538370745\n",
      "0.1261265035774286\n",
      "0.6423666836483166\n",
      "0.1743472377146274\n",
      "0.6991277932154719\n",
      "1.0561042006207058\n",
      "0.25337529497706535\n",
      "0.8467606832630634\n",
      "0.18816023152829908\n",
      "0.43618247518473663\n",
      "2.08476786229211\n",
      "1.6427128625488054\n",
      "0.7497533282923594\n",
      "0.49823321272696375\n",
      "0.08086321187591788\n",
      "0.09925394621922418\n",
      "0.6581204764100642\n",
      "1.113223347225137\n",
      "0.07317877445556017\n",
      "0.5430286070332573\n",
      "1.1471684383555587\n",
      "0.2397596904671881\n",
      "0.08091998914201176\n",
      "0.5639104703638416\n",
      "2.025490944382539\n",
      "0.34535142354438253\n"
     ]
    }
   ],
   "source": [
    "import numpy as np\n",
    "s = np.random.normal(0,1,100)\n",
    "\n",
    "# Your answer here\n",
    "s = np.random.normal(0,1,100)\n",
    "print (s[9], s[9:19])\n",
    "for i in range (100):\n",
    "    if (s[i]>0):\n",
    "        print(s[i])   "
   ]
  },
  {
   "cell_type": "markdown",
   "metadata": {},
   "source": [
    "### Exercise 3\n",
    "Make a function `pow` that raised base `number` to a fixed power `power`. If `power >= 50` print message \"power is too big\" and return `-1`"
   ]
  },
  {
   "cell_type": "code",
   "execution_count": 7,
   "metadata": {},
   "outputs": [
    {
     "name": "stdout",
     "output_type": "stream",
     "text": [
      "49\n",
      "power is too big\n",
      "-1\n"
     ]
    }
   ],
   "source": [
    "# Your answer here\n",
    "def pow (x, y):\n",
    "    if y >=50:\n",
    "        print ('power is too big')\n",
    "        return -1\n",
    "    if y == 0:            \n",
    "        return 1\n",
    "    if y >= 1:\n",
    "        return x * pow (x, y-1)\n",
    "print(pow(7,2))\n",
    "print(pow(7,51))  "
   ]
  },
  {
   "cell_type": "markdown",
   "metadata": {},
   "source": [
    "### Exercise 4\n",
    "Make a function `above(x,n)` which returns all elements `x > n`. By default `x = 10`. Use numpy arrays"
   ]
  },
  {
   "cell_type": "code",
   "execution_count": 11,
   "metadata": {},
   "outputs": [
    {
     "data": {
      "text/plain": [
       "[1]"
      ]
     },
     "execution_count": 11,
     "metadata": {},
     "output_type": "execute_result"
    }
   ],
   "source": [
    "import numpy as np\n",
    "# Your answer here\n",
    "def above (n, x=10):\n",
    "    new_arr = []\n",
    "    for i in n:\n",
    "        if i < x:\n",
    "            new_arr.append(i)\n",
    "    return new_arr\n",
    "above ([10, 1, 12, 25])"
   ]
  },
  {
   "cell_type": "markdown",
   "metadata": {},
   "source": [
    "### Exercise 5\n",
    "Write a function `my_ifelse(x, exp, n)` which test array `x` with expression `exp` to number `n`. For instance, `my_ifelse(x,'>=',10)` returns all elements of array `x` which greater or equal 10. `exp` can be `<`, `>`, `<=`, `>=`, `==`. If `exp` dont match these expression array `x` is retured"
   ]
  },
  {
   "cell_type": "code",
   "execution_count": 13,
   "metadata": {},
   "outputs": [
    {
     "data": {
      "text/plain": [
       "[7]"
      ]
     },
     "execution_count": 13,
     "metadata": {},
     "output_type": "execute_result"
    }
   ],
   "source": [
    "import numpy as np\n",
    "# Your answer here\n",
    "def my_ifelse(x, exp, n):\n",
    "    new_arr = []\n",
    "    if exp == '<':\n",
    "        for i in x:\n",
    "            if i < n:\n",
    "                new_arr.append(i)\n",
    "    elif exp == '>':\n",
    "         for i in x:\n",
    "            if i > n:\n",
    "                new_arr.append(i)\n",
    "    elif exp == '<=':\n",
    "         for i in x:\n",
    "            if i <= n:\n",
    "                new_arr.append(i)\n",
    "    elif exp == '>=':\n",
    "         for i in x:\n",
    "            if i >= n:\n",
    "                new_arr.append(i)\n",
    "    elif exp == '==':\n",
    "         for i in x:\n",
    "            if i == n:\n",
    "                new_arr.append(i)\n",
    "    else :\n",
    "        new_arr= x\n",
    "    return new_arr\n",
    "my_ifelse([7,10], '<', 10)"
   ]
  },
  {
   "cell_type": "markdown",
   "metadata": {},
   "source": [
    "### Exercise 6\n",
    "Make a function called `counter` that takes a string input_string and returns a dictionary of letter counts."
   ]
  },
  {
   "cell_type": "code",
   "execution_count": 3,
   "metadata": {},
   "outputs": [
    {
     "data": {
      "text/plain": [
       "{'d': 1, 'a': 3, 't': 1, 'b': 1, 's': 1, 'e': 1}"
      ]
     },
     "execution_count": 3,
     "metadata": {},
     "output_type": "execute_result"
    }
   ],
   "source": [
    "# Your answer here\n",
    "def counter (input_string):\n",
    "    letters = {}\n",
    "    input_string = list(input_string)\n",
    "    for letter in input_string:\n",
    "        if letter in letters:\n",
    "            letters[letter]+=1\n",
    "        else:\n",
    "            letters [letter]=1\n",
    "    return letters\n",
    "counter('database')"
   ]
  },
  {
   "cell_type": "markdown",
   "metadata": {},
   "source": [
    "### Exercise 7\n",
    "From the function `counter` make function `counter_sorted` with second boolean argumens `reverse` that returns sorted letter counts. Order depends of the `reverse` argument. By default `reverse = False`"
   ]
  },
  {
   "cell_type": "code",
   "execution_count": 6,
   "metadata": {},
   "outputs": [
    {
     "name": "stdout",
     "output_type": "stream",
     "text": [
      "{'a': 3, 'd': 1, 't': 1, 'b': 1, 's': 1, 'e': 1}\n",
      "{'d': 1, 't': 1, 'b': 1, 's': 1, 'e': 1, 'a': 3}\n"
     ]
    }
   ],
   "source": [
    "# Your answer here\n",
    "def counter (input_string):\n",
    "    letters = {}\n",
    "    input_string = list(input_string)\n",
    "    for letter in input_string:\n",
    "        if letter in letters:\n",
    "            letters[letter]+=1\n",
    "        else:\n",
    "            letters [letter]=1\n",
    "    return letters\n",
    "counter('database')\n",
    "import operator\n",
    "def counter_sorted(input_string, reverse = False):\n",
    "    if reverse:\n",
    "        return dict(sorted( counter (input_string).items(), key=operator.itemgetter(1), reverse=True))\n",
    "    else:\n",
    "        return dict(sorted(counter(input_string).items(), key=lambda item: item[1]))\n",
    "print(counter_sorted('database', True))\n",
    "print(counter_sorted('database'))"
   ]
  },
  {
   "cell_type": "code",
   "execution_count": null,
   "metadata": {},
   "outputs": [],
   "source": []
  }
 ],
 "metadata": {
  "kernelspec": {
   "display_name": "Python 3",
   "language": "python",
   "name": "python3"
  },
  "language_info": {
   "codemirror_mode": {
    "name": "ipython",
    "version": 3
   },
   "file_extension": ".py",
   "mimetype": "text/x-python",
   "name": "python",
   "nbconvert_exporter": "python",
   "pygments_lexer": "ipython3",
   "version": "3.8.8"
  }
 },
 "nbformat": 4,
 "nbformat_minor": 2
}
